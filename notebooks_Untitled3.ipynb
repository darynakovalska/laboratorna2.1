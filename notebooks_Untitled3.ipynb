{
  "metadata": {
    "language_info": {
      "codemirror_mode": {
        "name": "python",
        "version": 3
      },
      "file_extension": ".py",
      "mimetype": "text/x-python",
      "name": "python",
      "nbconvert_exporter": "python",
      "pygments_lexer": "ipython3",
      "version": "3.8"
    },
    "kernelspec": {
      "name": "python",
      "display_name": "Python (Pyodide)",
      "language": "python"
    }
  },
  "nbformat_minor": 4,
  "nbformat": 4,
  "cells": [
    {
      "cell_type": "code",
      "source": "class Employee:\n    def __init__(self, first_name, last_name, base_salary, experience):\n        self.first_name = first_name\n        self.last_name = last_name\n        self.base_salary = base_salary\n        self.experience = experience\n\n    def counted_salary(self):\n        if self.experience > 5:\n            return self.base_salary * 1.2 + 500\n        elif self.experience > 2:\n            return self.base_salary + 200\n        else:\n            return self.base_salary\n\nclass Designer(Employee):\n    def __init__(self, first_name, last_name, base_salary, experience, eff_coeff):\n        super().__init__(first_name, last_name, base_salary, experience)\n        self.eff_coeff = eff_coeff\n\n    def counted_salary(self):\n        base = super().counted_salary()\n        return base * self.eff_coeff\n\nclass Manager(Employee):\n    def __init__(self, first_name, last_name, base_salary, experience, team):\n        super().__init__(first_name, last_name, base_salary, experience)\n        self.team = team\n\n    def counted_salary(self):\n        base = super().counted_salary()\n        if len(self.team) > 10:\n            base += 300\n        elif len(self.team) > 5:\n            base += 200\n        if self.team.count(\"Developer\") > len(self.team) / 2:\n            base *= 1.1\n        return base\n\nclass Department:\n    def __init__(self, managers):\n        self.managers = managers\n\n    def give_salary(self):\n        for manager in self.managers:\n            total_salary = 0\n            for employee in manager.team:\n                total_salary += employee.counted_salary()\n                print(f\"{employee.first_name} {employee.last_name} отримав {employee.counted_salary()} шекелей\")\n            print(f\"Загальна зарплата для команди {manager.first_name} {manager.last_name}: {total_salary} шекелей\")\n\n\n\ndev1 = Employee(\"John\", \"Doe\", 3000, 3)\ndev2 = Employee(\"Alice\", \"Smith\", 4000, 6)\ndesigner = Designer(\"Bob\", \"Johnson\", 3500, 4, 0.8)\nmanager1 = Manager(\"Jane\", \"Williams\", 5000, 7, [dev1, dev2, designer])\nmanager2 = Manager(\"Mark\", \"Davis\", 6000, 8, [dev1, dev2, designer, dev1, designer])\n\ndepartment = Department([manager1, manager2])\ndepartment.give_salary()\n",
      "metadata": {
        "trusted": true
      },
      "execution_count": 1,
      "outputs": [
        {
          "name": "stdout",
          "text": "John Doe отримав 3200 шекелей\nAlice Smith отримав 5300.0 шекелей\nBob Johnson отримав 2960.0 шекелей\nЗагальна зарплата для команди Jane Williams: 11460.0 шекелей\nJohn Doe отримав 3200 шекелей\nAlice Smith отримав 5300.0 шекелей\nBob Johnson отримав 2960.0 шекелей\nJohn Doe отримав 3200 шекелей\nBob Johnson отримав 2960.0 шекелей\nЗагальна зарплата для команди Mark Davis: 17620.0 шекелей\n",
          "output_type": "stream"
        }
      ]
    },
    {
      "cell_type": "code",
      "source": "",
      "metadata": {},
      "execution_count": null,
      "outputs": []
    }
  ]
}